{
  "nbformat": 4,
  "nbformat_minor": 0,
  "metadata": {
    "colab": {
      "provenance": []
    },
    "kernelspec": {
      "name": "python3",
      "display_name": "Python 3"
    },
    "language_info": {
      "name": "python"
    }
  },
  "cells": [
    {
      "cell_type": "code",
      "execution_count": 1,
      "metadata": {
        "colab": {
          "base_uri": "https://localhost:8080/"
        },
        "id": "_hC_1-76Y_HI",
        "outputId": "245db996-3d90-4982-e0d0-0478e1649b6a"
      },
      "outputs": [
        {
          "output_type": "stream",
          "name": "stdout",
          "text": [
            "UserDetails - Head:\n",
            "  User ID      User Name  Age       Location Registration Date         Phone  \\\n",
            "0    U001  Alice Johnson   28       New York        2023-01-15  123-456-7890   \n",
            "1    U002      Bob Smith   35    Los Angeles        2023-02-20  987-654-3210   \n",
            "2    U003    Charlie Lee   42        Chicago        2023-03-10  555-123-4567   \n",
            "3    U004    David Brown   27  San Francisco        2023-04-05  444-333-2222   \n",
            "4    U005     Emma White   30        Seattle        2023-05-22  777-888-9999   \n",
            "5    U006    Frank Green   25         Austin        2023-06-15  888-777-6666   \n",
            "6    U007     Grace King   38         Boston        2023-07-02  999-888-7777   \n",
            "7    U008      Henry Lee   31          Miami        2023-08-11  101-202-3030   \n",
            "8    U009    Irene Moore   33         Dallas        2023-09-01  202-303-4040   \n",
            "9    U010     Jack White   29        Phoenix        2023-10-10  303-404-5050   \n",
            "\n",
            "               Email Favorite Meal  Total Orders  \n",
            "0    alice@email.com        Dinner            12  \n",
            "1      bob@email.com         Lunch             8  \n",
            "2  charlie@email.com     Breakfast            15  \n",
            "3    david@email.com        Dinner            10  \n",
            "4     emma@email.com         Lunch             9  \n",
            "5    frank@email.com        Dinner             7  \n",
            "6    grace@email.com     Breakfast            14  \n",
            "7    henry@email.com        Dinner             5  \n",
            "8    irene@email.com         Lunch             6  \n",
            "9     jack@email.com        Dinner             8  \n",
            "\n",
            "CookingSessions - Head:\n",
            "   Session ID User ID        Dish Name  Meal Type       Session Start  \\\n",
            "0        S001    U001        Spaghetti     Dinner 2024-12-01 19:00:00   \n",
            "1        S002    U002     Caesar Salad      Lunch 2024-12-01 12:00:00   \n",
            "2        S003    U003  Grilled Chicken     Dinner 2024-12-02 19:30:00   \n",
            "3        S004    U001         Pancakes  Breakfast 2024-12-02 07:30:00   \n",
            "4        S005    U004     Caesar Salad      Lunch 2024-12-03 13:00:00   \n",
            "5        S006    U002        Spaghetti     Dinner 2024-12-03 18:30:00   \n",
            "6        S007    U005  Grilled Chicken     Dinner 2024-12-04 18:00:00   \n",
            "7        S008    U003    Veggie Burger      Lunch 2024-12-04 13:30:00   \n",
            "8        S009    U001  Grilled Chicken     Dinner 2024-12-05 19:00:00   \n",
            "9        S010    U002          Oatmeal  Breakfast 2024-12-05 07:00:00   \n",
            "10       S011    U003         Pancakes  Breakfast 2024-12-06 08:00:00   \n",
            "11       S012    U004        Spaghetti     Dinner 2024-12-06 19:00:00   \n",
            "12       S013    U005     Caesar Salad      Lunch 2024-12-07 12:30:00   \n",
            "13       S014    U006  Grilled Chicken     Dinner 2024-12-07 18:00:00   \n",
            "14       S015    U007        Spaghetti     Dinner 2024-12-08 19:30:00   \n",
            "15       S016    U008    Veggie Burger      Lunch 2024-12-08 13:30:00   \n",
            "\n",
            "           Session End  Duration (mins)  Session Rating  \n",
            "0  2024-12-01 19:30:00               30             4.5  \n",
            "1  2024-12-01 12:20:00               20             4.0  \n",
            "2  2024-12-02 20:10:00               40             4.8  \n",
            "3  2024-12-02 08:00:00               30             4.2  \n",
            "4  2024-12-03 13:15:00               15             4.7  \n",
            "5  2024-12-03 19:00:00               30             4.3  \n",
            "6  2024-12-04 18:45:00               45             4.6  \n",
            "7  2024-12-04 13:50:00               20             4.4  \n",
            "8  2024-12-05 19:40:00               40             4.9  \n",
            "9  2024-12-05 07:10:00               10             4.1  \n",
            "10 2024-12-06 08:30:00               30             4.6  \n",
            "11 2024-12-06 19:40:00               40             4.7  \n",
            "12 2024-12-07 13:00:00               30             4.4  \n",
            "13 2024-12-07 18:45:00               45             4.8  \n",
            "14 2024-12-08 20:10:00               40             5.0  \n",
            "15 2024-12-08 13:50:00               20             4.3  \n",
            "\n",
            "OrderDetails - Head:\n",
            "    Order ID User ID Order Date  Meal Type        Dish Name Order Status  \\\n",
            "0       1001    U001 2024-12-01     Dinner        Spaghetti    Completed   \n",
            "1       1002    U002 2024-12-01      Lunch     Caesar Salad    Completed   \n",
            "2       1003    U003 2024-12-02     Dinner  Grilled Chicken     Canceled   \n",
            "3       1004    U001 2024-12-02  Breakfast         Pancakes    Completed   \n",
            "4       1005    U004 2024-12-03      Lunch     Caesar Salad    Completed   \n",
            "5       1006    U002 2024-12-03     Dinner        Spaghetti    Completed   \n",
            "6       1007    U005 2024-12-04     Dinner  Grilled Chicken    Completed   \n",
            "7       1008    U003 2024-12-04      Lunch    Veggie Burger     Canceled   \n",
            "8       1009    U001 2024-12-05     Dinner  Grilled Chicken    Completed   \n",
            "9       1010    U002 2024-12-05  Breakfast          Oatmeal    Completed   \n",
            "10      1011    U003 2024-12-06  Breakfast         Pancakes    Completed   \n",
            "11      1012    U004 2024-12-06     Dinner        Spaghetti    Completed   \n",
            "12      1013    U005 2024-12-07      Lunch     Caesar Salad    Completed   \n",
            "13      1014    U006 2024-12-07     Dinner  Grilled Chicken    Completed   \n",
            "14      1015    U007 2024-12-08     Dinner        Spaghetti    Completed   \n",
            "15      1016    U008 2024-12-08      Lunch    Veggie Burger    Completed   \n",
            "\n",
            "    Amount (USD) Time of Day  Rating Session ID  \n",
            "0           15.0       Night     5.0       S001  \n",
            "1           10.0         Day     4.0       S002  \n",
            "2           12.5       Night     NaN       S003  \n",
            "3            8.0     Morning     4.0       S004  \n",
            "4            9.0         Day     4.0       S005  \n",
            "5           14.0       Night     4.0       S006  \n",
            "6           13.5       Night     4.0       S007  \n",
            "7           11.0         Day     NaN       S008  \n",
            "8           12.0       Night     5.0       S009  \n",
            "9            7.0     Morning     4.0       S010  \n",
            "10           8.5     Morning     4.0       S011  \n",
            "11          12.5       Night     4.0       S012  \n",
            "12           9.0         Day     4.0       S013  \n",
            "13          13.0       Night     5.0       S014  \n",
            "14          14.0       Night     5.0       S015  \n",
            "15          11.0         Day     4.0       S016  \n"
          ]
        }
      ],
      "source": [
        "import pandas as pd\n",
        "import matplotlib.pyplot as plt\n",
        "import seaborn as sns\n",
        "\n",
        "# Load the datasets\n",
        "file_path = \"Data Analyst Intern Assignment - Excel.xlsx\"\n",
        "user_details = pd.read_excel(file_path, sheet_name=\"UserDetails.csv\")\n",
        "cooking_sessions = pd.read_excel(file_path, sheet_name=\"CookingSessions.csv\")\n",
        "order_details = pd.read_excel(file_path, sheet_name=\"OrderDetails.csv\")\n",
        "\n",
        "\n",
        "print(\"UserDetails - Head:\")\n",
        "print(user_details)\n",
        "\n",
        "print(\"\\nCookingSessions - Head:\")\n",
        "print(cooking_sessions)\n",
        "\n",
        "print(\"\\nOrderDetails - Head:\")\n",
        "print(order_details)"
      ]
    },
    {
      "cell_type": "code",
      "source": [
        "# Check for missing values\n",
        "print(\"\\nMissing Values in UserDetails:\")\n",
        "print(user_details.isnull().sum())\n",
        "\n",
        "print(\"\\nMissing Values in CookingSessions:\")\n",
        "print(cooking_sessions.isnull().sum())\n",
        "\n",
        "print(\"\\nMissing Values in OrderDetails:\")\n",
        "print(order_details.isnull().sum())"
      ],
      "metadata": {
        "colab": {
          "base_uri": "https://localhost:8080/"
        },
        "id": "XYFIlrwsadup",
        "outputId": "b9a63814-8559-4914-ee60-4f6b59efba52"
      },
      "execution_count": 2,
      "outputs": [
        {
          "output_type": "stream",
          "name": "stdout",
          "text": [
            "\n",
            "Missing Values in UserDetails:\n",
            "User ID              0\n",
            "User Name            0\n",
            "Age                  0\n",
            "Location             0\n",
            "Registration Date    0\n",
            "Phone                0\n",
            "Email                0\n",
            "Favorite Meal        0\n",
            "Total Orders         0\n",
            "dtype: int64\n",
            "\n",
            "Missing Values in CookingSessions:\n",
            "Session ID         0\n",
            "User ID            0\n",
            "Dish Name          0\n",
            "Meal Type          0\n",
            "Session Start      0\n",
            "Session End        0\n",
            "Duration (mins)    0\n",
            "Session Rating     0\n",
            "dtype: int64\n",
            "\n",
            "Missing Values in OrderDetails:\n",
            "Order ID        0\n",
            "User ID         0\n",
            "Order Date      0\n",
            "Meal Type       0\n",
            "Dish Name       0\n",
            "Order Status    0\n",
            "Amount (USD)    0\n",
            "Time of Day     0\n",
            "Rating          2\n",
            "Session ID      0\n",
            "dtype: int64\n"
          ]
        }
      ]
    },
    {
      "cell_type": "code",
      "source": [
        "# Clean UserDetails\n",
        "user_details.drop_duplicates(inplace=True)\n",
        "user_details['Registration Date'] = pd.to_datetime(user_details['Registration Date'])\n",
        "\n",
        "# Clean CookingSessions\n",
        "cooking_sessions.drop_duplicates(inplace=True)\n",
        "cooking_sessions['Session Start'] = pd.to_datetime(cooking_sessions['Session Start'])\n",
        "cooking_sessions['Session End'] = pd.to_datetime(cooking_sessions['Session End'])\n",
        "\n",
        "# Clean OrderDetails\n",
        "order_details.drop_duplicates(inplace=True)\n",
        "order_details['Order Date'] = pd.to_datetime(order_details['Order Date'])\n",
        "order_details['Rating'] = order_details['Rating'].fillna(order_details['Rating'].mean())\n",
        "order_details['Order Status'] = order_details['Order Status'].str.strip()\n",
        "\n",
        "\n",
        "print(\"UserDetails - Head:\")\n",
        "print(user_details)\n",
        "\n",
        "print(\"\\nCookingSessions - Head:\")\n",
        "print(cooking_sessions)\n",
        "\n",
        "print(\"\\nOrderDetails - Head:\")\n",
        "print(order_details)"
      ],
      "metadata": {
        "colab": {
          "base_uri": "https://localhost:8080/"
        },
        "id": "-oKz1sWjaFha",
        "outputId": "a276284e-ca32-4457-88dc-e4080884a7fc"
      },
      "execution_count": 3,
      "outputs": [
        {
          "output_type": "stream",
          "name": "stdout",
          "text": [
            "UserDetails - Head:\n",
            "  User ID      User Name  Age       Location Registration Date         Phone  \\\n",
            "0    U001  Alice Johnson   28       New York        2023-01-15  123-456-7890   \n",
            "1    U002      Bob Smith   35    Los Angeles        2023-02-20  987-654-3210   \n",
            "2    U003    Charlie Lee   42        Chicago        2023-03-10  555-123-4567   \n",
            "3    U004    David Brown   27  San Francisco        2023-04-05  444-333-2222   \n",
            "4    U005     Emma White   30        Seattle        2023-05-22  777-888-9999   \n",
            "5    U006    Frank Green   25         Austin        2023-06-15  888-777-6666   \n",
            "6    U007     Grace King   38         Boston        2023-07-02  999-888-7777   \n",
            "7    U008      Henry Lee   31          Miami        2023-08-11  101-202-3030   \n",
            "8    U009    Irene Moore   33         Dallas        2023-09-01  202-303-4040   \n",
            "9    U010     Jack White   29        Phoenix        2023-10-10  303-404-5050   \n",
            "\n",
            "               Email Favorite Meal  Total Orders  \n",
            "0    alice@email.com        Dinner            12  \n",
            "1      bob@email.com         Lunch             8  \n",
            "2  charlie@email.com     Breakfast            15  \n",
            "3    david@email.com        Dinner            10  \n",
            "4     emma@email.com         Lunch             9  \n",
            "5    frank@email.com        Dinner             7  \n",
            "6    grace@email.com     Breakfast            14  \n",
            "7    henry@email.com        Dinner             5  \n",
            "8    irene@email.com         Lunch             6  \n",
            "9     jack@email.com        Dinner             8  \n",
            "\n",
            "CookingSessions - Head:\n",
            "   Session ID User ID        Dish Name  Meal Type       Session Start  \\\n",
            "0        S001    U001        Spaghetti     Dinner 2024-12-01 19:00:00   \n",
            "1        S002    U002     Caesar Salad      Lunch 2024-12-01 12:00:00   \n",
            "2        S003    U003  Grilled Chicken     Dinner 2024-12-02 19:30:00   \n",
            "3        S004    U001         Pancakes  Breakfast 2024-12-02 07:30:00   \n",
            "4        S005    U004     Caesar Salad      Lunch 2024-12-03 13:00:00   \n",
            "5        S006    U002        Spaghetti     Dinner 2024-12-03 18:30:00   \n",
            "6        S007    U005  Grilled Chicken     Dinner 2024-12-04 18:00:00   \n",
            "7        S008    U003    Veggie Burger      Lunch 2024-12-04 13:30:00   \n",
            "8        S009    U001  Grilled Chicken     Dinner 2024-12-05 19:00:00   \n",
            "9        S010    U002          Oatmeal  Breakfast 2024-12-05 07:00:00   \n",
            "10       S011    U003         Pancakes  Breakfast 2024-12-06 08:00:00   \n",
            "11       S012    U004        Spaghetti     Dinner 2024-12-06 19:00:00   \n",
            "12       S013    U005     Caesar Salad      Lunch 2024-12-07 12:30:00   \n",
            "13       S014    U006  Grilled Chicken     Dinner 2024-12-07 18:00:00   \n",
            "14       S015    U007        Spaghetti     Dinner 2024-12-08 19:30:00   \n",
            "15       S016    U008    Veggie Burger      Lunch 2024-12-08 13:30:00   \n",
            "\n",
            "           Session End  Duration (mins)  Session Rating  \n",
            "0  2024-12-01 19:30:00               30             4.5  \n",
            "1  2024-12-01 12:20:00               20             4.0  \n",
            "2  2024-12-02 20:10:00               40             4.8  \n",
            "3  2024-12-02 08:00:00               30             4.2  \n",
            "4  2024-12-03 13:15:00               15             4.7  \n",
            "5  2024-12-03 19:00:00               30             4.3  \n",
            "6  2024-12-04 18:45:00               45             4.6  \n",
            "7  2024-12-04 13:50:00               20             4.4  \n",
            "8  2024-12-05 19:40:00               40             4.9  \n",
            "9  2024-12-05 07:10:00               10             4.1  \n",
            "10 2024-12-06 08:30:00               30             4.6  \n",
            "11 2024-12-06 19:40:00               40             4.7  \n",
            "12 2024-12-07 13:00:00               30             4.4  \n",
            "13 2024-12-07 18:45:00               45             4.8  \n",
            "14 2024-12-08 20:10:00               40             5.0  \n",
            "15 2024-12-08 13:50:00               20             4.3  \n",
            "\n",
            "OrderDetails - Head:\n",
            "    Order ID User ID Order Date  Meal Type        Dish Name Order Status  \\\n",
            "0       1001    U001 2024-12-01     Dinner        Spaghetti    Completed   \n",
            "1       1002    U002 2024-12-01      Lunch     Caesar Salad    Completed   \n",
            "2       1003    U003 2024-12-02     Dinner  Grilled Chicken     Canceled   \n",
            "3       1004    U001 2024-12-02  Breakfast         Pancakes    Completed   \n",
            "4       1005    U004 2024-12-03      Lunch     Caesar Salad    Completed   \n",
            "5       1006    U002 2024-12-03     Dinner        Spaghetti    Completed   \n",
            "6       1007    U005 2024-12-04     Dinner  Grilled Chicken    Completed   \n",
            "7       1008    U003 2024-12-04      Lunch    Veggie Burger     Canceled   \n",
            "8       1009    U001 2024-12-05     Dinner  Grilled Chicken    Completed   \n",
            "9       1010    U002 2024-12-05  Breakfast          Oatmeal    Completed   \n",
            "10      1011    U003 2024-12-06  Breakfast         Pancakes    Completed   \n",
            "11      1012    U004 2024-12-06     Dinner        Spaghetti    Completed   \n",
            "12      1013    U005 2024-12-07      Lunch     Caesar Salad    Completed   \n",
            "13      1014    U006 2024-12-07     Dinner  Grilled Chicken    Completed   \n",
            "14      1015    U007 2024-12-08     Dinner        Spaghetti    Completed   \n",
            "15      1016    U008 2024-12-08      Lunch    Veggie Burger    Completed   \n",
            "\n",
            "    Amount (USD) Time of Day    Rating Session ID  \n",
            "0           15.0       Night  5.000000       S001  \n",
            "1           10.0         Day  4.000000       S002  \n",
            "2           12.5       Night  4.285714       S003  \n",
            "3            8.0     Morning  4.000000       S004  \n",
            "4            9.0         Day  4.000000       S005  \n",
            "5           14.0       Night  4.000000       S006  \n",
            "6           13.5       Night  4.000000       S007  \n",
            "7           11.0         Day  4.285714       S008  \n",
            "8           12.0       Night  5.000000       S009  \n",
            "9            7.0     Morning  4.000000       S010  \n",
            "10           8.5     Morning  4.000000       S011  \n",
            "11          12.5       Night  4.000000       S012  \n",
            "12           9.0         Day  4.000000       S013  \n",
            "13          13.0       Night  5.000000       S014  \n",
            "14          14.0       Night  5.000000       S015  \n",
            "15          11.0         Day  4.000000       S016  \n"
          ]
        }
      ]
    },
    {
      "cell_type": "code",
      "source": [
        "# Check for missing values\n",
        "print(\"\\nMissing Values in UserDetails:\")\n",
        "print(user_details.isnull().sum())\n",
        "\n",
        "print(\"\\nMissing Values in CookingSessions:\")\n",
        "print(cooking_sessions.isnull().sum())\n",
        "\n",
        "print(\"\\nMissing Values in OrderDetails:\")\n",
        "print(order_details.isnull().sum())"
      ],
      "metadata": {
        "colab": {
          "base_uri": "https://localhost:8080/"
        },
        "id": "xeoWPsAEcK0w",
        "outputId": "1e6bb1eb-b8f2-4a84-94b4-cef5493d12ac"
      },
      "execution_count": 4,
      "outputs": [
        {
          "output_type": "stream",
          "name": "stdout",
          "text": [
            "\n",
            "Missing Values in UserDetails:\n",
            "User ID              0\n",
            "User Name            0\n",
            "Age                  0\n",
            "Location             0\n",
            "Registration Date    0\n",
            "Phone                0\n",
            "Email                0\n",
            "Favorite Meal        0\n",
            "Total Orders         0\n",
            "dtype: int64\n",
            "\n",
            "Missing Values in CookingSessions:\n",
            "Session ID         0\n",
            "User ID            0\n",
            "Dish Name          0\n",
            "Meal Type          0\n",
            "Session Start      0\n",
            "Session End        0\n",
            "Duration (mins)    0\n",
            "Session Rating     0\n",
            "dtype: int64\n",
            "\n",
            "Missing Values in OrderDetails:\n",
            "Order ID        0\n",
            "User ID         0\n",
            "Order Date      0\n",
            "Meal Type       0\n",
            "Dish Name       0\n",
            "Order Status    0\n",
            "Amount (USD)    0\n",
            "Time of Day     0\n",
            "Rating          0\n",
            "Session ID      0\n",
            "dtype: int64\n"
          ]
        }
      ]
    },
    {
      "cell_type": "code",
      "source": [
        "# Merge UserDetails with CookingSessions\n",
        "merged_data = pd.merge(user_details, cooking_sessions, on=\"User ID\", how=\"outer\")\n",
        "\n",
        "# Merge the result with OrderDetails\n",
        "final_data = pd.merge(merged_data, order_details, on=[\"User ID\", \"Session ID\"], how=\"outer\")\n",
        "\n",
        "print(\"\\nMerged Data - Head:\")\n",
        "print(final_data)"
      ],
      "metadata": {
        "colab": {
          "base_uri": "https://localhost:8080/"
        },
        "id": "kcfsAIxMaomE",
        "outputId": "b118ae24-4532-4172-9367-9f3187a4497b"
      },
      "execution_count": 5,
      "outputs": [
        {
          "output_type": "stream",
          "name": "stdout",
          "text": [
            "\n",
            "Merged Data - Head:\n",
            "   User ID      User Name  Age       Location Registration Date         Phone  \\\n",
            "0     U001  Alice Johnson   28       New York        2023-01-15  123-456-7890   \n",
            "1     U001  Alice Johnson   28       New York        2023-01-15  123-456-7890   \n",
            "2     U001  Alice Johnson   28       New York        2023-01-15  123-456-7890   \n",
            "3     U002      Bob Smith   35    Los Angeles        2023-02-20  987-654-3210   \n",
            "4     U002      Bob Smith   35    Los Angeles        2023-02-20  987-654-3210   \n",
            "5     U002      Bob Smith   35    Los Angeles        2023-02-20  987-654-3210   \n",
            "6     U003    Charlie Lee   42        Chicago        2023-03-10  555-123-4567   \n",
            "7     U003    Charlie Lee   42        Chicago        2023-03-10  555-123-4567   \n",
            "8     U003    Charlie Lee   42        Chicago        2023-03-10  555-123-4567   \n",
            "9     U004    David Brown   27  San Francisco        2023-04-05  444-333-2222   \n",
            "10    U004    David Brown   27  San Francisco        2023-04-05  444-333-2222   \n",
            "11    U005     Emma White   30        Seattle        2023-05-22  777-888-9999   \n",
            "12    U005     Emma White   30        Seattle        2023-05-22  777-888-9999   \n",
            "13    U006    Frank Green   25         Austin        2023-06-15  888-777-6666   \n",
            "14    U007     Grace King   38         Boston        2023-07-02  999-888-7777   \n",
            "15    U008      Henry Lee   31          Miami        2023-08-11  101-202-3030   \n",
            "16    U009    Irene Moore   33         Dallas        2023-09-01  202-303-4040   \n",
            "17    U010     Jack White   29        Phoenix        2023-10-10  303-404-5050   \n",
            "\n",
            "                Email Favorite Meal  Total Orders Session ID  ...  \\\n",
            "0     alice@email.com        Dinner            12       S001  ...   \n",
            "1     alice@email.com        Dinner            12       S004  ...   \n",
            "2     alice@email.com        Dinner            12       S009  ...   \n",
            "3       bob@email.com         Lunch             8       S002  ...   \n",
            "4       bob@email.com         Lunch             8       S006  ...   \n",
            "5       bob@email.com         Lunch             8       S010  ...   \n",
            "6   charlie@email.com     Breakfast            15       S003  ...   \n",
            "7   charlie@email.com     Breakfast            15       S008  ...   \n",
            "8   charlie@email.com     Breakfast            15       S011  ...   \n",
            "9     david@email.com        Dinner            10       S005  ...   \n",
            "10    david@email.com        Dinner            10       S012  ...   \n",
            "11     emma@email.com         Lunch             9       S007  ...   \n",
            "12     emma@email.com         Lunch             9       S013  ...   \n",
            "13    frank@email.com        Dinner             7       S014  ...   \n",
            "14    grace@email.com     Breakfast            14       S015  ...   \n",
            "15    henry@email.com        Dinner             5       S016  ...   \n",
            "16    irene@email.com         Lunch             6        NaN  ...   \n",
            "17     jack@email.com        Dinner             8        NaN  ...   \n",
            "\n",
            "   Duration (mins) Session Rating Order ID Order Date  Meal Type_y  \\\n",
            "0             30.0            4.5   1001.0 2024-12-01       Dinner   \n",
            "1             30.0            4.2   1004.0 2024-12-02    Breakfast   \n",
            "2             40.0            4.9   1009.0 2024-12-05       Dinner   \n",
            "3             20.0            4.0   1002.0 2024-12-01        Lunch   \n",
            "4             30.0            4.3   1006.0 2024-12-03       Dinner   \n",
            "5             10.0            4.1   1010.0 2024-12-05    Breakfast   \n",
            "6             40.0            4.8   1003.0 2024-12-02       Dinner   \n",
            "7             20.0            4.4   1008.0 2024-12-04        Lunch   \n",
            "8             30.0            4.6   1011.0 2024-12-06    Breakfast   \n",
            "9             15.0            4.7   1005.0 2024-12-03        Lunch   \n",
            "10            40.0            4.7   1012.0 2024-12-06       Dinner   \n",
            "11            45.0            4.6   1007.0 2024-12-04       Dinner   \n",
            "12            30.0            4.4   1013.0 2024-12-07        Lunch   \n",
            "13            45.0            4.8   1014.0 2024-12-07       Dinner   \n",
            "14            40.0            5.0   1015.0 2024-12-08       Dinner   \n",
            "15            20.0            4.3   1016.0 2024-12-08        Lunch   \n",
            "16             NaN            NaN      NaN        NaT          NaN   \n",
            "17             NaN            NaN      NaN        NaT          NaN   \n",
            "\n",
            "        Dish Name_y  Order Status Amount (USD) Time of Day    Rating  \n",
            "0         Spaghetti     Completed         15.0       Night  5.000000  \n",
            "1          Pancakes     Completed          8.0     Morning  4.000000  \n",
            "2   Grilled Chicken     Completed         12.0       Night  5.000000  \n",
            "3      Caesar Salad     Completed         10.0         Day  4.000000  \n",
            "4         Spaghetti     Completed         14.0       Night  4.000000  \n",
            "5           Oatmeal     Completed          7.0     Morning  4.000000  \n",
            "6   Grilled Chicken      Canceled         12.5       Night  4.285714  \n",
            "7     Veggie Burger      Canceled         11.0         Day  4.285714  \n",
            "8          Pancakes     Completed          8.5     Morning  4.000000  \n",
            "9      Caesar Salad     Completed          9.0         Day  4.000000  \n",
            "10        Spaghetti     Completed         12.5       Night  4.000000  \n",
            "11  Grilled Chicken     Completed         13.5       Night  4.000000  \n",
            "12     Caesar Salad     Completed          9.0         Day  4.000000  \n",
            "13  Grilled Chicken     Completed         13.0       Night  5.000000  \n",
            "14        Spaghetti     Completed         14.0       Night  5.000000  \n",
            "15    Veggie Burger     Completed         11.0         Day  4.000000  \n",
            "16              NaN           NaN          NaN         NaN       NaN  \n",
            "17              NaN           NaN          NaN         NaN       NaN  \n",
            "\n",
            "[18 rows x 24 columns]\n"
          ]
        }
      ]
    },
    {
      "cell_type": "code",
      "source": [
        "final_data['Meal Type'] = final_data['Meal Type_y']\n",
        "final_data['Dish Name'] = final_data['Dish Name_y']"
      ],
      "metadata": {
        "id": "lwhhsHbXfcQ-"
      },
      "execution_count": 6,
      "outputs": []
    },
    {
      "cell_type": "code",
      "source": [
        "# Correlation between total orders and session ratings\n",
        "correlation = final_data.groupby('User ID')[['Total Orders', 'Session Rating']].mean().corr()\n",
        "print(\"Correlation between Total Orders and Session Rating:\")\n",
        "print(correlation)"
      ],
      "metadata": {
        "colab": {
          "base_uri": "https://localhost:8080/"
        },
        "id": "0RIqtidlcQ8c",
        "outputId": "018b33e9-1afd-4f0f-f46d-a79cfca8ad64"
      },
      "execution_count": 7,
      "outputs": [
        {
          "output_type": "stream",
          "name": "stdout",
          "text": [
            "Correlation between Total Orders and Session Rating:\n",
            "                Total Orders  Session Rating\n",
            "Total Orders        1.000000        0.511785\n",
            "Session Rating      0.511785        1.000000\n"
          ]
        }
      ]
    },
    {
      "cell_type": "code",
      "source": [
        "# Popular dishes by frequency\n",
        "popular_dishes = final_data['Dish Name'].value_counts().head(10)\n",
        "print(\"Top 10 Popular Dishes:\")\n",
        "print(popular_dishes)\n",
        "\n",
        "# Plot popular dishes\n",
        "sns.barplot(x=popular_dishes.values, y=popular_dishes.index)\n",
        "plt.title(\"Top 10 Popular Dishes\")\n",
        "plt.xlabel(\"Number of Sessions/Orders\")\n",
        "plt.ylabel(\"Dish Name\")\n",
        "plt.show()"
      ],
      "metadata": {
        "colab": {
          "base_uri": "https://localhost:8080/",
          "height": 628
        },
        "id": "h3vvzKwwcYWM",
        "outputId": "d9dd981d-1353-4fde-d05e-2841c5541ded"
      },
      "execution_count": 8,
      "outputs": [
        {
          "output_type": "stream",
          "name": "stdout",
          "text": [
            "Top 10 Popular Dishes:\n",
            "Dish Name\n",
            "Spaghetti          4\n",
            "Grilled Chicken    4\n",
            "Caesar Salad       3\n",
            "Pancakes           2\n",
            "Veggie Burger      2\n",
            "Oatmeal            1\n",
            "Name: count, dtype: int64\n"
          ]
        },
        {
          "output_type": "display_data",
          "data": {
            "text/plain": [
              "<Figure size 640x480 with 1 Axes>"
            ],
            "image/png": "[encoded data removed]"
          },
          "metadata": {}
        }
      ]
    },
    {
      "cell_type": "code",
      "source": [
        "# Analyze age groups\n",
        "age_groups = pd.cut(user_details['Age'], bins=[18, 25, 35, 45, 60], labels=[\"18-25\", \"26-35\", \"36-45\", \"46-60\"])\n",
        "age_group_analysis = final_data.groupby(age_groups)['Total Orders'].mean()\n",
        "\n",
        "# Plot age group analysis\n",
        "age_group_analysis.plot(kind='bar', title='Average Orders by Age Group')\n",
        "plt.xlabel(\"Age Group\")\n",
        "plt.ylabel(\"Average Orders\")\n",
        "plt.show()"
      ],
      "metadata": {
        "colab": {
          "base_uri": "https://localhost:8080/",
          "height": 553
        },
        "id": "XjtWxElpfK4G",
        "outputId": "008a29ef-8a32-401f-b506-e140476f75d0"
      },
      "execution_count": 9,
      "outputs": [
        {
          "output_type": "stream",
          "name": "stderr",
          "text": [
            "<ipython-input-9-2053ce71022a>:3: FutureWarning: The default of observed=False is deprecated and will be changed to True in a future version of pandas. Pass observed=False to retain current behavior or observed=True to adopt the future default and silence this warning.\n",
            "  age_group_analysis = final_data.groupby(age_groups)['Total Orders'].mean()\n"
          ]
        },
        {
          "output_type": "display_data",
          "data": {
            "text/plain": [
              "<Figure size 640x480 with 1 Axes>"
            ],
            "image/png": "[encoded data removed]"
          },
          "metadata": {}
        }
      ]
    },
    {
      "cell_type": "code",
      "source": [
        "# Cooking sessions vs orders by user\n",
        "sns.scatterplot(data=final_data, x=\"Session Rating\", y=\"Amount (USD)\", hue=\"Meal Type\")\n",
        "plt.title(\"Cooking Sessions Rating vs Order Amount\")\n",
        "plt.xlabel(\"Session Rating\")\n",
        "plt.ylabel(\"Order Amount (USD)\")\n",
        "plt.show()"
      ],
      "metadata": {
        "colab": {
          "base_uri": "https://localhost:8080/",
          "height": 472
        },
        "id": "yBlSY8fdfRVv",
        "outputId": "9e63e703-a862-4dc0-f6b4-d6bc4ba7faef"
      },
      "execution_count": 10,
      "outputs": [
        {
          "output_type": "display_data",
          "data": {
            "text/plain": [
              "<Figure size 640x480 with 1 Axes>"
            ],
            "image/png": "[encoded data removed]"
          },
          "metadata": {}
        }
      ]
    },
    {
      "cell_type": "code",
      "source": [
        "# Save cleaned and merged dataset\n",
        "final_data.to_csv(\"final_data.csv\", index=False)\n",
        "\n",
        "# Save insights to a summary file\n",
        "with open(\"summary.txt\", \"w\") as file:\n",
        "    file.write(\"Correlation between Total Orders and Session Ratings:\\n\")\n",
        "    file.write(str(correlation) + \"\\n\\n\")\n",
        "    file.write(\"Top 10 Popular Dishes:\\n\")\n",
        "    file.write(str(popular_dishes) + \"\\n\")\n",
        "    file.write(\"Average Orders by Age Group:\\n\")\n",
        "    file.write(str(age_group_analysis) + \"\\n\")"
      ],
      "metadata": {
        "id": "TpR3ztQmgNC1"
      },
      "execution_count": 11,
      "outputs": []
    }
  ]
}